{
 "cells": [
  {
   "cell_type": "code",
   "execution_count": null,
   "metadata": {
    "collapsed": false
   },
   "outputs": [],
   "source": [
    "package.loaded.metrics = nil\n",
    "metrics = require 'metrics'"
   ]
  },
  {
   "cell_type": "code",
   "execution_count": null,
   "metadata": {
    "collapsed": false
   },
   "outputs": [],
   "source": [
    "-- run some experiments\n",
    "for k, v in ipairs({1, 2, 3}) do\n",
    "    -- open a new log\n",
    "    log = metrics.Log('/tmp/log' .. v)\n",
    "\n",
    "    -- do some iterations\n",
    "    for i = 1, 10 do\n",
    "        -- basic metric\n",
    "        log:set(\"sqrt\", math.sqrt(i * v))\n",
    "\n",
    "        -- \"grouped\" metrics\n",
    "        log:set(\"log:v1\", math.log(i * v))\n",
    "        log:set(\"log:v2\", math.log(1.3 * i * v))\n",
    "\n",
    "        -- \"calculated\" metrics\n",
    "        for j = 1, 5 do\n",
    "            log:sum(\"sum\", math.pow(i * v, j))\n",
    "            log:mean(\"mean\", math.pow(i * v, j))\n",
    "        end\n",
    "\n",
    "        log:commit()\n",
    "    end\n",
    "\n",
    "    -- incomplete row\n",
    "    log:set(\"log:v1\", 2 * v)\n",
    "    log:commit()\n",
    "\n",
    "    -- extra column\n",
    "    log:set(\"extra1\", 2 * v)\n",
    "    log:commit()\n",
    "\n",
    "    -- another extra column...\n",
    "    log:set(\"extra1\", 3 * v)\n",
    "    \n",
    "    -- ...and row print\n",
    "    print(log:commit())\n",
    "\n",
    "    log:close()\n",
    "end"
   ]
  },
  {
   "cell_type": "code",
   "execution_count": null,
   "metadata": {
    "collapsed": false
   },
   "outputs": [],
   "source": [
    "local x = os.execute('cat /tmp/log1')"
   ]
  },
  {
   "cell_type": "code",
   "execution_count": null,
   "metadata": {
    "collapsed": true
   },
   "outputs": [],
   "source": [
    "package.loaded.dashboard = nil\n",
    "dashboard = require 'dashboard'"
   ]
  },
  {
   "cell_type": "code",
   "execution_count": null,
   "metadata": {
    "collapsed": false,
    "scrolled": false
   },
   "outputs": [],
   "source": [
    "dashboard.show({\n",
    "    datasets = {\n",
    "        { name = 'log01', path = '/tmp/log1'},\n",
    "        { name = 'log02', path = '/tmp/log2'},\n",
    "        { name = 'log03', path = '/tmp/log3', shift = 2 }},\n",
    "    type = 'circle',     -- chart type, 'line' or 'circle'\n",
    "    --from = 2,          -- first step to plot\n",
    "    --to = 9,            -- last step to plot\n",
    "    --cut = 3,           -- remove last steps\n",
    "    --groups = 'log',    -- regexp for filtering groups\n",
    "    --metrics = 'log02'  -- regexp for filtering metrics\n",
    "    --movingAverage = 3, -- use Moving Average for all steps\n",
    "})"
   ]
  },
  {
   "cell_type": "code",
   "execution_count": null,
   "metadata": {
    "collapsed": true
   },
   "outputs": [],
   "source": []
  }
 ],
 "metadata": {
  "kernelspec": {
   "display_name": "iTorch",
   "language": "lua",
   "name": "itorch"
  },
  "language_info": {
   "name": "lua",
   "version": "5.1"
  }
 },
 "nbformat": 4,
 "nbformat_minor": 0
}
